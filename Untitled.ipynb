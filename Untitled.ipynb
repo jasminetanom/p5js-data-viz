{
 "cells": [
  {
   "cell_type": "code",
   "execution_count": 1,
   "metadata": {},
   "outputs": [],
   "source": [
    "import numpy as np\n",
    "import pandas as pd\n",
    "import math"
   ]
  },
  {
   "cell_type": "code",
   "execution_count": 2,
   "metadata": {},
   "outputs": [
    {
     "data": {
      "text/html": [
       "<div>\n",
       "<style scoped>\n",
       "    .dataframe tbody tr th:only-of-type {\n",
       "        vertical-align: middle;\n",
       "    }\n",
       "\n",
       "    .dataframe tbody tr th {\n",
       "        vertical-align: top;\n",
       "    }\n",
       "\n",
       "    .dataframe thead th {\n",
       "        text-align: right;\n",
       "    }\n",
       "</style>\n",
       "<table border=\"1\" class=\"dataframe\">\n",
       "  <thead>\n",
       "    <tr style=\"text-align: right;\">\n",
       "      <th></th>\n",
       "      <th>Date</th>\n",
       "      <th>Mean live coral cover (percent)</th>\n",
       "      <th>Lower confidence interval</th>\n",
       "      <th>Upper confidence interval</th>\n",
       "      <th>Confidence interval span</th>\n",
       "    </tr>\n",
       "  </thead>\n",
       "  <tbody>\n",
       "    <tr>\n",
       "      <th>0</th>\n",
       "      <td>1985.50000</td>\n",
       "      <td>27.294363</td>\n",
       "      <td>25.357747</td>\n",
       "      <td>29.320783</td>\n",
       "      <td>3.963036</td>\n",
       "    </tr>\n",
       "    <tr>\n",
       "      <th>1</th>\n",
       "      <td>1985.52603</td>\n",
       "      <td>27.252621</td>\n",
       "      <td>25.324541</td>\n",
       "      <td>29.269957</td>\n",
       "      <td>3.945416</td>\n",
       "    </tr>\n",
       "    <tr>\n",
       "      <th>2</th>\n",
       "      <td>1985.55205</td>\n",
       "      <td>27.210921</td>\n",
       "      <td>25.291290</td>\n",
       "      <td>29.219268</td>\n",
       "      <td>3.927978</td>\n",
       "    </tr>\n",
       "    <tr>\n",
       "      <th>3</th>\n",
       "      <td>1985.57808</td>\n",
       "      <td>27.169265</td>\n",
       "      <td>25.257996</td>\n",
       "      <td>29.168717</td>\n",
       "      <td>3.910721</td>\n",
       "    </tr>\n",
       "    <tr>\n",
       "      <th>4</th>\n",
       "      <td>1985.60410</td>\n",
       "      <td>27.127654</td>\n",
       "      <td>25.224659</td>\n",
       "      <td>29.118308</td>\n",
       "      <td>3.893649</td>\n",
       "    </tr>\n",
       "  </tbody>\n",
       "</table>\n",
       "</div>"
      ],
      "text/plain": [
       "         Date  Mean live coral cover (percent)  Lower confidence interval  \\\n",
       "0  1985.50000                        27.294363                  25.357747   \n",
       "1  1985.52603                        27.252621                  25.324541   \n",
       "2  1985.55205                        27.210921                  25.291290   \n",
       "3  1985.57808                        27.169265                  25.257996   \n",
       "4  1985.60410                        27.127654                  25.224659   \n",
       "\n",
       "   Upper confidence interval  Confidence interval span  \n",
       "0                  29.320783                  3.963036  \n",
       "1                  29.269957                  3.945416  \n",
       "2                  29.219268                  3.927978  \n",
       "3                  29.168717                  3.910721  \n",
       "4                  29.118308                  3.893649  "
      ]
     },
     "execution_count": 2,
     "metadata": {},
     "output_type": "execute_result"
    }
   ],
   "source": [
    "df = pd.read_csv(\"coral.csv\")\n",
    "df.head()"
   ]
  },
  {
   "cell_type": "code",
   "execution_count": 3,
   "metadata": {},
   "outputs": [
    {
     "name": "stdout",
     "output_type": "stream",
     "text": [
      "<class 'pandas.core.frame.DataFrame'>\n",
      "RangeIndex: 1000 entries, 0 to 999\n",
      "Data columns (total 5 columns):\n",
      "Date                               1000 non-null float64\n",
      "Mean live coral cover (percent)    1000 non-null float64\n",
      "Lower confidence interval          1000 non-null float64\n",
      "Upper confidence interval          1000 non-null float64\n",
      "Confidence interval span           1000 non-null float64\n",
      "dtypes: float64(5)\n",
      "memory usage: 39.1 KB\n"
     ]
    }
   ],
   "source": [
    "df.info()"
   ]
  },
  {
   "cell_type": "code",
   "execution_count": 4,
   "metadata": {},
   "outputs": [],
   "source": [
    "df[\"Date\"] = df[\"Date\"].apply(lambda x: math.floor(x))"
   ]
  },
  {
   "cell_type": "code",
   "execution_count": 5,
   "metadata": {},
   "outputs": [],
   "source": [
    "#df.groupby(\"Date\").mean()[[\"Mean live coral cover (percent)\"]].to_csv(\"coral_cleaned\")"
   ]
  },
  {
   "cell_type": "code",
   "execution_count": 6,
   "metadata": {},
   "outputs": [],
   "source": [
    "# df.groupby(\"Date\").mean()[\"Mean live coral cover (percent)\"].apply(lambda x: int(x)).to_csv(\"coral_cleaned\")"
   ]
  },
  {
   "cell_type": "code",
   "execution_count": 7,
   "metadata": {},
   "outputs": [],
   "source": [
    "annual = df.groupby(\"Date\").mean()[\"Mean live coral cover (percent)\"].to_frame()"
   ]
  },
  {
   "cell_type": "code",
   "execution_count": 8,
   "metadata": {},
   "outputs": [
    {
     "data": {
      "text/plain": [
       "0      0.014635\n",
       "1      0.013084\n",
       "2      0.011534\n",
       "3      0.009985\n",
       "4      0.008438\n",
       "5      0.006893\n",
       "6      0.005350\n",
       "7      0.003809\n",
       "8      0.002269\n",
       "9      0.000732\n",
       "10    -0.000803\n",
       "11    -0.002336\n",
       "12    -0.003867\n",
       "13    -0.005395\n",
       "14    -0.006921\n",
       "15    -0.008445\n",
       "16    -0.009966\n",
       "17    -0.011484\n",
       "18    -0.013000\n",
       "19    -0.014513\n",
       "20    -0.016023\n",
       "21    -0.017530\n",
       "22    -0.019035\n",
       "23    -0.020536\n",
       "24    -0.022035\n",
       "25    -0.023530\n",
       "26    -0.025022\n",
       "27    -0.026511\n",
       "28    -0.027996\n",
       "29    -0.029478\n",
       "         ...   \n",
       "970   -0.461620\n",
       "971   -0.462712\n",
       "972   -0.463802\n",
       "973   -0.464892\n",
       "974   -0.465979\n",
       "975   -0.467066\n",
       "976   -0.468151\n",
       "977   -0.469235\n",
       "978   -0.470318\n",
       "979   -0.471399\n",
       "980   -0.472479\n",
       "981   -0.473557\n",
       "982   -0.474634\n",
       "983   -0.475710\n",
       "984   -0.476784\n",
       "985   -0.477856\n",
       "986   -0.478927\n",
       "987   -0.479997\n",
       "988   -0.481065\n",
       "989   -0.482131\n",
       "990   -0.483196\n",
       "991   -0.484258\n",
       "992   -0.485320\n",
       "993   -0.486379\n",
       "994   -0.487437\n",
       "995   -0.488494\n",
       "996   -0.489548\n",
       "997   -0.490601\n",
       "998   -0.491652\n",
       "999   -0.492701\n",
       "Name: Mean live coral cover (percent), Length: 1000, dtype: float64"
      ]
     },
     "execution_count": 8,
     "metadata": {},
     "output_type": "execute_result"
    }
   ],
   "source": [
    "# df[\"vs_baseline\"] = df[\"Mean live coral cover (percent)\"].apply(lambda x: math.floor(x))\n",
    "df[\"Mean live coral cover (percent)\"].apply(lambda x: (x - 26.900660)/26.900660)"
   ]
  },
  {
   "cell_type": "code",
   "execution_count": 9,
   "metadata": {},
   "outputs": [],
   "source": [
    "change = annual[\"Mean live coral cover (percent)\"].apply(lambda x: int((x - 26.900660)/26.900660*100))"
   ]
  },
  {
   "cell_type": "code",
   "execution_count": 10,
   "metadata": {},
   "outputs": [],
   "source": [
    "change_before = pd.DataFrame([[i, 0] for i in range(1880, 1985)], columns=[\"Date\", \"change\"]).set_index(\"Date\")"
   ]
  },
  {
   "cell_type": "code",
   "execution_count": 11,
   "metadata": {},
   "outputs": [],
   "source": [
    "change = change.to_frame().rename(columns={'Mean live coral cover (percent)':'change'})"
   ]
  },
  {
   "cell_type": "code",
   "execution_count": 12,
   "metadata": {},
   "outputs": [],
   "source": [
    "cleaned = change_before.append(change)"
   ]
  },
  {
   "cell_type": "code",
   "execution_count": 13,
   "metadata": {},
   "outputs": [],
   "source": [
    "cleaned.to_csv(\"coral_cleaned.csv\")"
   ]
  },
  {
   "cell_type": "code",
   "execution_count": null,
   "metadata": {},
   "outputs": [],
   "source": []
  }
 ],
 "metadata": {
  "kernelspec": {
   "display_name": "Python 3",
   "language": "python",
   "name": "python3"
  },
  "language_info": {
   "codemirror_mode": {
    "name": "ipython",
    "version": 3
   },
   "file_extension": ".py",
   "mimetype": "text/x-python",
   "name": "python",
   "nbconvert_exporter": "python",
   "pygments_lexer": "ipython3",
   "version": "3.6.8"
  }
 },
 "nbformat": 4,
 "nbformat_minor": 2
}
